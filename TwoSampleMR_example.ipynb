{
 "cells": [
  {
   "cell_type": "markdown",
   "metadata": {},
   "source": [
    "# pQTL v PD two sample MR"
   ]
  },
  {
   "cell_type": "code",
   "execution_count": null,
   "metadata": {},
   "outputs": [],
   "source": [
    "library(\"TwoSampleMR\")\n",
    "library(\"ieugwasr\")"
   ]
  },
  {
   "cell_type": "markdown",
   "metadata": {},
   "source": [
    "# Traits of interest"
   ]
  },
  {
   "cell_type": "markdown",
   "metadata": {},
   "source": [
    "## Exposure GWAS"
   ]
  },
  {
   "cell_type": "markdown",
   "metadata": {},
   "source": [
    "### Get the available GWASs in the database"
   ]
  },
  {
   "cell_type": "code",
   "execution_count": null,
   "metadata": {},
   "outputs": [],
   "source": [
    "ao = gwasinfo()\n",
    "str(ao)"
   ]
  },
  {
   "cell_type": "code",
   "execution_count": null,
   "metadata": {},
   "outputs": [],
   "source": [
    "head(ao)"
   ]
  },
  {
   "cell_type": "markdown",
   "metadata": {},
   "source": [
    "### Extract the list of pQTLs to lookup"
   ]
  },
  {
   "cell_type": "code",
   "execution_count": null,
   "metadata": {},
   "outputs": [],
   "source": [
    "exp_traits = unique(ao[grepl(\"prot-a-\", ao$id),]$id)\n",
    "str(exp_traits)"
   ]
  },
  {
   "cell_type": "markdown",
   "metadata": {},
   "source": [
    "### Example - get descriptive statistics of pQTL"
   ]
  },
  {
   "cell_type": "code",
   "execution_count": null,
   "metadata": {},
   "outputs": [],
   "source": [
    "gwasinfo(\"prot-a-1363\")"
   ]
  },
  {
   "cell_type": "markdown",
   "metadata": {},
   "source": [
    "## Outcome GWAS"
   ]
  },
  {
   "cell_type": "code",
   "execution_count": null,
   "metadata": {},
   "outputs": [],
   "source": [
    "outcome_traits = c(\"ukb-b-6548\", \"ukb-b-956\", \"ukb-b-16943\")\n",
    "### Double check IDs\n",
    "for(id in outcome_traits) {\n",
    "    cat(\"id: \", id, \"\\n\")\n",
    "    print(gwasinfo(id))\n",
    "    cat(\"\\n\\n\")\n",
    "}"
   ]
  },
  {
   "cell_type": "markdown",
   "metadata": {},
   "source": [
    "# Extract the instruments from the pQTL GWAS"
   ]
  },
  {
   "cell_type": "code",
   "execution_count": null,
   "metadata": {},
   "outputs": [],
   "source": [
    "exp.df = tophits(\n",
    "  id=exp_traits,\n",
    "  pval=5e-08, # default\n",
    "  clump=1, # flag to clump or not\n",
    "  r2=0.001, # default\n",
    "  kb=10000 # default\n",
    ")\n",
    "exp.df"
   ]
  },
  {
   "cell_type": "markdown",
   "metadata": {},
   "source": [
    "# Find the instruments in the outcome GWASs"
   ]
  },
  {
   "cell_type": "code",
   "execution_count": null,
   "metadata": {},
   "outputs": [],
   "source": [
    "snp_list = unique(exp.df$rsid)\n",
    "str(snp_list)"
   ]
  },
  {
   "cell_type": "code",
   "execution_count": null,
   "metadata": {},
   "outputs": [],
   "source": [
    "out.df = associations(\n",
    "  variants=snp_list, #rsids to lookup\n",
    "  id=outcome_traits, #traits to lookup\n",
    "  proxies=1, #Look for proxies in outcome.\n",
    "  r2=0.8, #proxy r2 required\n",
    "  align_alleles=1, #default\n",
    "  palindromes=1, #default\n",
    "  maf_threshold=0.3, #default\n",
    ")\n",
    "out.df"
   ]
  }
 ],
 "metadata": {
  "kernelspec": {
   "display_name": "R",
   "language": "R",
   "name": "ir"
  },
  "language_info": {
   "codemirror_mode": "r",
   "file_extension": ".r",
   "mimetype": "text/x-r-source",
   "name": "R",
   "pygments_lexer": "r",
   "version": "3.6.2"
  }
 },
 "nbformat": 4,
 "nbformat_minor": 4
}
