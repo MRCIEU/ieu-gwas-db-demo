{
 "cells": [
  {
   "cell_type": "markdown",
   "metadata": {},
   "source": [
    "# Example of how to lookup SNPs in a region "
   ]
  },
  {
   "cell_type": "code",
   "execution_count": 1,
   "metadata": {},
   "outputs": [
    {
     "name": "stderr",
     "output_type": "stream",
     "text": [
      "TwoSampleMR 0.5.0 - Major update!\n",
      "[>] List of changes and information about backwards compatibility here:\n",
      "    https://mrcieu.github.io/TwoSampleMR/articles/gwas2020.html\n",
      "[>] Browse available data at https://gwas.mrcieu.ac.uk\n",
      "\n",
      "\n",
      "API: public: http://gwas-api.mrcieu.ac.uk/\n",
      "\n",
      "\n",
      "Attaching package: ‘ieugwasr’\n",
      "\n",
      "\n",
      "The following object is masked from ‘package:TwoSampleMR’:\n",
      "\n",
      "    ld_matrix\n",
      "\n",
      "\n"
     ]
    }
   ],
   "source": [
    "library(\"TwoSampleMR\")\n",
    "library(\"ieugwasr\")"
   ]
  },
  {
   "cell_type": "code",
   "execution_count": 2,
   "metadata": {},
   "outputs": [],
   "source": [
    "snps_to_lookup = c(\"rs6812193\", \"rs11868035\")"
   ]
  },
  {
   "cell_type": "markdown",
   "metadata": {},
   "source": [
    "# Get the associations across the traits in the database"
   ]
  },
  {
   "cell_type": "code",
   "execution_count": 3,
   "metadata": {},
   "outputs": [],
   "source": [
    "results = phewas(variants=snps_to_lookup)"
   ]
  },
  {
   "cell_type": "code",
   "execution_count": 4,
   "metadata": {},
   "outputs": [
    {
     "data": {
      "text/plain": [
       "\n",
       "rs11868035  rs6812193 \n",
       "        26          5 "
      ]
     },
     "metadata": {},
     "output_type": "display_data"
    }
   ],
   "source": [
    "table(results$rsid)"
   ]
  },
  {
   "cell_type": "code",
   "execution_count": 5,
   "metadata": {},
   "outputs": [
    {
     "data": {
      "text/html": [
       "<table>\n",
       "<caption>A tibble: 6 × 12</caption>\n",
       "<thead>\n",
       "\t<tr><th scope=col>se</th><th scope=col>p</th><th scope=col>n</th><th scope=col>beta</th><th scope=col>position</th><th scope=col>chr</th><th scope=col>id</th><th scope=col>rsid</th><th scope=col>ea</th><th scope=col>nea</th><th scope=col>eaf</th><th scope=col>trait</th></tr>\n",
       "\t<tr><th scope=col>&lt;dbl&gt;</th><th scope=col>&lt;dbl&gt;</th><th scope=col>&lt;int&gt;</th><th scope=col>&lt;dbl&gt;</th><th scope=col>&lt;int&gt;</th><th scope=col>&lt;chr&gt;</th><th scope=col>&lt;chr&gt;</th><th scope=col>&lt;chr&gt;</th><th scope=col>&lt;chr&gt;</th><th scope=col>&lt;chr&gt;</th><th scope=col>&lt;chr&gt;</th><th scope=col>&lt;chr&gt;</th></tr>\n",
       "</thead>\n",
       "<tbody>\n",
       "\t<tr><td>0.00092000</td><td>4.10015e-13</td><td>133723</td><td> 0.00660000</td><td>77198986</td><td>4 </td><td>ieu-a-1105      </td><td>rs6812193 </td><td>T</td><td>C</td><td>0.398   </td><td>Serum creatinine (eGFRcrea)           </td></tr>\n",
       "\t<tr><td>0.00092000</td><td>1.10002e-12</td><td>118373</td><td> 0.00660000</td><td>77198986</td><td>4 </td><td>ieu-a-1104      </td><td>rs6812193 </td><td>T</td><td>C</td><td>0.398   </td><td>Serum creatinine (eGFRcrea)           </td></tr>\n",
       "\t<tr><td>0.00200404</td><td>6.79986e-11</td><td>454857</td><td> 0.01307850</td><td>17715101</td><td>17</td><td>ukb-b-14068     </td><td>rs11868035</td><td>A</td><td>G</td><td>0.293525</td><td>Impedance of leg (left)               </td></tr>\n",
       "\t<tr><td>0.00398072</td><td>1.16700e-09</td><td>171643</td><td> 0.02422150</td><td>17715101</td><td>17</td><td>ebi-a-GCST004627</td><td>rs11868035</td><td>A</td><td>G</td><td>0.29    </td><td>Lymphocyte counts                     </td></tr>\n",
       "\t<tr><td>0.00198726</td><td>1.09999e-08</td><td>454863</td><td> 0.01134780</td><td>17715101</td><td>17</td><td>ukb-b-7376      </td><td>rs11868035</td><td>A</td><td>G</td><td>0.293524</td><td>Impedance of leg (right)              </td></tr>\n",
       "\t<tr><td>0.00113542</td><td>3.79997e-08</td><td>460913</td><td>-0.00624353</td><td>17715101</td><td>17</td><td>ukb-b-5776      </td><td>rs11868035</td><td>A</td><td>G</td><td>0.293419</td><td>Daytime dozing / sleeping (narcolepsy)</td></tr>\n",
       "</tbody>\n",
       "</table>\n"
      ],
      "text/latex": [
       "A tibble: 6 × 12\n",
       "\\begin{tabular}{llllllllllll}\n",
       " se & p & n & beta & position & chr & id & rsid & ea & nea & eaf & trait\\\\\n",
       " <dbl> & <dbl> & <int> & <dbl> & <int> & <chr> & <chr> & <chr> & <chr> & <chr> & <chr> & <chr>\\\\\n",
       "\\hline\n",
       "\t 0.00092000 & 4.10015e-13 & 133723 &  0.00660000 & 77198986 & 4  & ieu-a-1105       & rs6812193  & T & C & 0.398    & Serum creatinine (eGFRcrea)           \\\\\n",
       "\t 0.00092000 & 1.10002e-12 & 118373 &  0.00660000 & 77198986 & 4  & ieu-a-1104       & rs6812193  & T & C & 0.398    & Serum creatinine (eGFRcrea)           \\\\\n",
       "\t 0.00200404 & 6.79986e-11 & 454857 &  0.01307850 & 17715101 & 17 & ukb-b-14068      & rs11868035 & A & G & 0.293525 & Impedance of leg (left)               \\\\\n",
       "\t 0.00398072 & 1.16700e-09 & 171643 &  0.02422150 & 17715101 & 17 & ebi-a-GCST004627 & rs11868035 & A & G & 0.29     & Lymphocyte counts                     \\\\\n",
       "\t 0.00198726 & 1.09999e-08 & 454863 &  0.01134780 & 17715101 & 17 & ukb-b-7376       & rs11868035 & A & G & 0.293524 & Impedance of leg (right)              \\\\\n",
       "\t 0.00113542 & 3.79997e-08 & 460913 & -0.00624353 & 17715101 & 17 & ukb-b-5776       & rs11868035 & A & G & 0.293419 & Daytime dozing / sleeping (narcolepsy)\\\\\n",
       "\\end{tabular}\n"
      ],
      "text/markdown": [
       "\n",
       "A tibble: 6 × 12\n",
       "\n",
       "| se &lt;dbl&gt; | p &lt;dbl&gt; | n &lt;int&gt; | beta &lt;dbl&gt; | position &lt;int&gt; | chr &lt;chr&gt; | id &lt;chr&gt; | rsid &lt;chr&gt; | ea &lt;chr&gt; | nea &lt;chr&gt; | eaf &lt;chr&gt; | trait &lt;chr&gt; |\n",
       "|---|---|---|---|---|---|---|---|---|---|---|---|\n",
       "| 0.00092000 | 4.10015e-13 | 133723 |  0.00660000 | 77198986 | 4  | ieu-a-1105       | rs6812193  | T | C | 0.398    | Serum creatinine (eGFRcrea)            |\n",
       "| 0.00092000 | 1.10002e-12 | 118373 |  0.00660000 | 77198986 | 4  | ieu-a-1104       | rs6812193  | T | C | 0.398    | Serum creatinine (eGFRcrea)            |\n",
       "| 0.00200404 | 6.79986e-11 | 454857 |  0.01307850 | 17715101 | 17 | ukb-b-14068      | rs11868035 | A | G | 0.293525 | Impedance of leg (left)                |\n",
       "| 0.00398072 | 1.16700e-09 | 171643 |  0.02422150 | 17715101 | 17 | ebi-a-GCST004627 | rs11868035 | A | G | 0.29     | Lymphocyte counts                      |\n",
       "| 0.00198726 | 1.09999e-08 | 454863 |  0.01134780 | 17715101 | 17 | ukb-b-7376       | rs11868035 | A | G | 0.293524 | Impedance of leg (right)               |\n",
       "| 0.00113542 | 3.79997e-08 | 460913 | -0.00624353 | 17715101 | 17 | ukb-b-5776       | rs11868035 | A | G | 0.293419 | Daytime dozing / sleeping (narcolepsy) |\n",
       "\n"
      ],
      "text/plain": [
       "  se         p           n      beta        position chr id              \n",
       "1 0.00092000 4.10015e-13 133723  0.00660000 77198986 4   ieu-a-1105      \n",
       "2 0.00092000 1.10002e-12 118373  0.00660000 77198986 4   ieu-a-1104      \n",
       "3 0.00200404 6.79986e-11 454857  0.01307850 17715101 17  ukb-b-14068     \n",
       "4 0.00398072 1.16700e-09 171643  0.02422150 17715101 17  ebi-a-GCST004627\n",
       "5 0.00198726 1.09999e-08 454863  0.01134780 17715101 17  ukb-b-7376      \n",
       "6 0.00113542 3.79997e-08 460913 -0.00624353 17715101 17  ukb-b-5776      \n",
       "  rsid       ea nea eaf      trait                                 \n",
       "1 rs6812193  T  C   0.398    Serum creatinine (eGFRcrea)           \n",
       "2 rs6812193  T  C   0.398    Serum creatinine (eGFRcrea)           \n",
       "3 rs11868035 A  G   0.293525 Impedance of leg (left)               \n",
       "4 rs11868035 A  G   0.29     Lymphocyte counts                     \n",
       "5 rs11868035 A  G   0.293524 Impedance of leg (right)              \n",
       "6 rs11868035 A  G   0.293419 Daytime dozing / sleeping (narcolepsy)"
      ]
     },
     "metadata": {},
     "output_type": "display_data"
    }
   ],
   "source": [
    "head(results)"
   ]
  }
 ],
 "metadata": {
  "kernelspec": {
   "display_name": "R",
   "language": "R",
   "name": "ir"
  },
  "language_info": {
   "codemirror_mode": "r",
   "file_extension": ".r",
   "mimetype": "text/x-r-source",
   "name": "R",
   "pygments_lexer": "r",
   "version": "3.6.2"
  }
 },
 "nbformat": 4,
 "nbformat_minor": 4
}
