{
 "cells": [
  {
   "cell_type": "markdown",
   "metadata": {},
   "source": [
    "# Example of how to lookup SNPs in a region"
   ]
  },
  {
   "cell_type": "code",
   "execution_count": 1,
   "metadata": {},
   "outputs": [
    {
     "name": "stderr",
     "output_type": "stream",
     "text": [
      "TwoSampleMR 0.5.0 - Major update!\n",
      "[>] List of changes and information about backwards compatibility here:\n",
      "    https://mrcieu.github.io/TwoSampleMR/articles/gwas2020.html\n",
      "[>] Browse available data at https://gwas.mrcieu.ac.uk\n",
      "\n",
      "\n",
      "API: public: http://gwas-api.mrcieu.ac.uk/\n",
      "\n",
      "\n",
      "Attaching package: ‘ieugwasr’\n",
      "\n",
      "\n",
      "The following object is masked from ‘package:TwoSampleMR’:\n",
      "\n",
      "    ld_matrix\n",
      "\n",
      "\n"
     ]
    }
   ],
   "source": [
    "library(\"TwoSampleMR\")\n",
    "library(\"ieugwasr\")"
   ]
  },
  {
   "cell_type": "code",
   "execution_count": 2,
   "metadata": {},
   "outputs": [],
   "source": [
    "snps_to_lookup = c(\"rs6812193\", \"rs11868035\")\n",
    "outcome_traits = c(\"ukb-b-6548\", \"ukb-b-956\", \"ukb-b-16943\")"
   ]
  },
  {
   "cell_type": "markdown",
   "metadata": {},
   "source": [
    "# Get the genomic coordinates for the SNPs (hg19) "
   ]
  },
  {
   "cell_type": "code",
   "execution_count": 3,
   "metadata": {},
   "outputs": [],
   "source": [
    "snps = variants_rsid(snps_to_lookup)\n",
    "snps$start = snps$pos - 500000\n",
    "snps$end = snps$pos + 500000\n",
    "snps$region.id = paste0(snps$chr, \":\", snps$start, \"-\", snps$end)"
   ]
  },
  {
   "cell_type": "markdown",
   "metadata": {},
   "source": [
    "# Get the id to lookup associations across region (chr:start-end)"
   ]
  },
  {
   "cell_type": "markdown",
   "metadata": {},
   "source": [
    "# Lookup the associations in the region (turn off proxy lookup)."
   ]
  },
  {
   "cell_type": "code",
   "execution_count": 4,
   "metadata": {},
   "outputs": [],
   "source": [
    "result = associations(\n",
    "  variants=snps$region.id,\n",
    "  id=outcome_traits,\n",
    "  proxies=0\n",
    ")"
   ]
  },
  {
   "cell_type": "code",
   "execution_count": 6,
   "metadata": {},
   "outputs": [
    {
     "data": {
      "text/plain": [
       "\n",
       "  Illnesses of father: Parkinson's disease \n",
       "                                      4385 \n",
       "  Illnesses of mother: Parkinson's disease \n",
       "                                      4047 \n",
       "Illnesses of siblings: Parkinson's disease \n",
       "                                      2440 "
      ]
     },
     "metadata": {},
     "output_type": "display_data"
    }
   ],
   "source": [
    "table(result$trait)"
   ]
  },
  {
   "cell_type": "markdown",
   "metadata": {},
   "source": [
    "# Find the index SNP associations within the region"
   ]
  },
  {
   "cell_type": "code",
   "execution_count": 7,
   "metadata": {},
   "outputs": [],
   "source": [
    "snp.df = result[result$rsid %in% snps_to_lookup, ]"
   ]
  },
  {
   "cell_type": "code",
   "execution_count": 9,
   "metadata": {},
   "outputs": [
    {
     "data": {
      "text/html": [
       "<table>\n",
       "<caption>A tibble: 6 × 12</caption>\n",
       "<thead>\n",
       "\t<tr><th scope=col>beta</th><th scope=col>p</th><th scope=col>se</th><th scope=col>position</th><th scope=col>n</th><th scope=col>chr</th><th scope=col>id</th><th scope=col>rsid</th><th scope=col>ea</th><th scope=col>nea</th><th scope=col>eaf</th><th scope=col>trait</th></tr>\n",
       "\t<tr><th scope=col>&lt;dbl&gt;</th><th scope=col>&lt;dbl&gt;</th><th scope=col>&lt;dbl&gt;</th><th scope=col>&lt;int&gt;</th><th scope=col>&lt;int&gt;</th><th scope=col>&lt;chr&gt;</th><th scope=col>&lt;chr&gt;</th><th scope=col>&lt;chr&gt;</th><th scope=col>&lt;chr&gt;</th><th scope=col>&lt;chr&gt;</th><th scope=col>&lt;dbl&gt;</th><th scope=col>&lt;chr&gt;</th></tr>\n",
       "</thead>\n",
       "<tbody>\n",
       "\t<tr><td>-2.66296e-04</td><td>0.4900000</td><td>0.000387890</td><td>17715101</td><td>399089</td><td>17</td><td>ukb-b-956  </td><td>rs11868035</td><td>A</td><td>G</td><td>0.293231</td><td>Illnesses of father: Parkinson's disease  </td></tr>\n",
       "\t<tr><td> 2.44699e-04</td><td>0.4200000</td><td>0.000306164</td><td>17715101</td><td>422464</td><td>17</td><td>ukb-b-6548 </td><td>rs11868035</td><td>A</td><td>G</td><td>0.293370</td><td>Illnesses of mother: Parkinson's disease  </td></tr>\n",
       "\t<tr><td>-1.30786e-05</td><td>0.9500000</td><td>0.000192781</td><td>17715101</td><td>361199</td><td>17</td><td>ukb-b-16943</td><td>rs11868035</td><td>A</td><td>G</td><td>0.293630</td><td>Illnesses of siblings: Parkinson's disease</td></tr>\n",
       "\t<tr><td>-3.34900e-04</td><td>0.0640000</td><td>0.000180771</td><td>77198986</td><td>361199</td><td>4 </td><td>ukb-b-16943</td><td>rs6812193 </td><td>T</td><td>C</td><td>0.375503</td><td>Illnesses of siblings: Parkinson's disease</td></tr>\n",
       "\t<tr><td>-5.83020e-04</td><td>0.0420001</td><td>0.000287191</td><td>77198986</td><td>422464</td><td>4 </td><td>ukb-b-6548 </td><td>rs6812193 </td><td>T</td><td>C</td><td>0.375180</td><td>Illnesses of mother: Parkinson's disease  </td></tr>\n",
       "\t<tr><td>-1.34865e-03</td><td>0.0002100</td><td>0.000363608</td><td>77198986</td><td>399089</td><td>4 </td><td>ukb-b-956  </td><td>rs6812193 </td><td>T</td><td>C</td><td>0.375073</td><td>Illnesses of father: Parkinson's disease  </td></tr>\n",
       "</tbody>\n",
       "</table>\n"
      ],
      "text/latex": [
       "A tibble: 6 × 12\n",
       "\\begin{tabular}{llllllllllll}\n",
       " beta & p & se & position & n & chr & id & rsid & ea & nea & eaf & trait\\\\\n",
       " <dbl> & <dbl> & <dbl> & <int> & <int> & <chr> & <chr> & <chr> & <chr> & <chr> & <dbl> & <chr>\\\\\n",
       "\\hline\n",
       "\t -2.66296e-04 & 0.4900000 & 0.000387890 & 17715101 & 399089 & 17 & ukb-b-956   & rs11868035 & A & G & 0.293231 & Illnesses of father: Parkinson's disease  \\\\\n",
       "\t  2.44699e-04 & 0.4200000 & 0.000306164 & 17715101 & 422464 & 17 & ukb-b-6548  & rs11868035 & A & G & 0.293370 & Illnesses of mother: Parkinson's disease  \\\\\n",
       "\t -1.30786e-05 & 0.9500000 & 0.000192781 & 17715101 & 361199 & 17 & ukb-b-16943 & rs11868035 & A & G & 0.293630 & Illnesses of siblings: Parkinson's disease\\\\\n",
       "\t -3.34900e-04 & 0.0640000 & 0.000180771 & 77198986 & 361199 & 4  & ukb-b-16943 & rs6812193  & T & C & 0.375503 & Illnesses of siblings: Parkinson's disease\\\\\n",
       "\t -5.83020e-04 & 0.0420001 & 0.000287191 & 77198986 & 422464 & 4  & ukb-b-6548  & rs6812193  & T & C & 0.375180 & Illnesses of mother: Parkinson's disease  \\\\\n",
       "\t -1.34865e-03 & 0.0002100 & 0.000363608 & 77198986 & 399089 & 4  & ukb-b-956   & rs6812193  & T & C & 0.375073 & Illnesses of father: Parkinson's disease  \\\\\n",
       "\\end{tabular}\n"
      ],
      "text/markdown": [
       "\n",
       "A tibble: 6 × 12\n",
       "\n",
       "| beta &lt;dbl&gt; | p &lt;dbl&gt; | se &lt;dbl&gt; | position &lt;int&gt; | n &lt;int&gt; | chr &lt;chr&gt; | id &lt;chr&gt; | rsid &lt;chr&gt; | ea &lt;chr&gt; | nea &lt;chr&gt; | eaf &lt;dbl&gt; | trait &lt;chr&gt; |\n",
       "|---|---|---|---|---|---|---|---|---|---|---|---|\n",
       "| -2.66296e-04 | 0.4900000 | 0.000387890 | 17715101 | 399089 | 17 | ukb-b-956   | rs11868035 | A | G | 0.293231 | Illnesses of father: Parkinson's disease   |\n",
       "|  2.44699e-04 | 0.4200000 | 0.000306164 | 17715101 | 422464 | 17 | ukb-b-6548  | rs11868035 | A | G | 0.293370 | Illnesses of mother: Parkinson's disease   |\n",
       "| -1.30786e-05 | 0.9500000 | 0.000192781 | 17715101 | 361199 | 17 | ukb-b-16943 | rs11868035 | A | G | 0.293630 | Illnesses of siblings: Parkinson's disease |\n",
       "| -3.34900e-04 | 0.0640000 | 0.000180771 | 77198986 | 361199 | 4  | ukb-b-16943 | rs6812193  | T | C | 0.375503 | Illnesses of siblings: Parkinson's disease |\n",
       "| -5.83020e-04 | 0.0420001 | 0.000287191 | 77198986 | 422464 | 4  | ukb-b-6548  | rs6812193  | T | C | 0.375180 | Illnesses of mother: Parkinson's disease   |\n",
       "| -1.34865e-03 | 0.0002100 | 0.000363608 | 77198986 | 399089 | 4  | ukb-b-956   | rs6812193  | T | C | 0.375073 | Illnesses of father: Parkinson's disease   |\n",
       "\n"
      ],
      "text/plain": [
       "  beta         p         se          position n      chr id          rsid      \n",
       "1 -2.66296e-04 0.4900000 0.000387890 17715101 399089 17  ukb-b-956   rs11868035\n",
       "2  2.44699e-04 0.4200000 0.000306164 17715101 422464 17  ukb-b-6548  rs11868035\n",
       "3 -1.30786e-05 0.9500000 0.000192781 17715101 361199 17  ukb-b-16943 rs11868035\n",
       "4 -3.34900e-04 0.0640000 0.000180771 77198986 361199 4   ukb-b-16943 rs6812193 \n",
       "5 -5.83020e-04 0.0420001 0.000287191 77198986 422464 4   ukb-b-6548  rs6812193 \n",
       "6 -1.34865e-03 0.0002100 0.000363608 77198986 399089 4   ukb-b-956   rs6812193 \n",
       "  ea nea eaf      trait                                     \n",
       "1 A  G   0.293231 Illnesses of father: Parkinson's disease  \n",
       "2 A  G   0.293370 Illnesses of mother: Parkinson's disease  \n",
       "3 A  G   0.293630 Illnesses of siblings: Parkinson's disease\n",
       "4 T  C   0.375503 Illnesses of siblings: Parkinson's disease\n",
       "5 T  C   0.375180 Illnesses of mother: Parkinson's disease  \n",
       "6 T  C   0.375073 Illnesses of father: Parkinson's disease  "
      ]
     },
     "metadata": {},
     "output_type": "display_data"
    }
   ],
   "source": [
    "snp.df"
   ]
  }
 ],
 "metadata": {
  "kernelspec": {
   "display_name": "R",
   "language": "R",
   "name": "ir"
  },
  "language_info": {
   "codemirror_mode": "r",
   "file_extension": ".r",
   "mimetype": "text/x-r-source",
   "name": "R",
   "pygments_lexer": "r",
   "version": "3.6.2"
  }
 },
 "nbformat": 4,
 "nbformat_minor": 4
}
