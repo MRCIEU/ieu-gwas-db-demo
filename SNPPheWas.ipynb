{
 "cells": [
  {
   "cell_type": "markdown",
   "metadata": {},
   "source": [
    "# Example of how to lookup SNPs in a region "
   ]
  },
  {
   "cell_type": "code",
   "execution_count": 1,
   "metadata": {},
   "outputs": [
    {
     "name": "stderr",
     "output_type": "stream",
     "text": [
      "TwoSampleMR 0.5.0 - Major update!\n",
      "[>] List of changes and information about backwards compatibility here:\n",
      "    https://mrcieu.github.io/TwoSampleMR/articles/gwas2020.html\n",
      "[>] Browse available data at https://gwas.mrcieu.ac.uk\n",
      "\n",
      "\n",
      "API: public: http://gwas-api.mrcieu.ac.uk/\n",
      "\n",
      "\n",
      "Attaching package: ‘ieugwasr’\n",
      "\n",
      "\n",
      "The following object is masked from ‘package:TwoSampleMR’:\n",
      "\n",
      "    ld_matrix\n",
      "\n",
      "\n"
     ]
    }
   ],
   "source": [
    "library(\"TwoSampleMR\")\n",
    "library(\"ieugwasr\")"
   ]
  },
  {
   "cell_type": "code",
   "execution_count": 2,
   "metadata": {},
   "outputs": [],
   "source": [
    "snps_to_lookup = c(\"rs6812193\", \"rs11868035\")"
   ]
  },
  {
   "cell_type": "markdown",
   "metadata": {},
   "source": [
    "# Get the associations across the traits in the database"
   ]
  },
  {
   "cell_type": "code",
   "execution_count": 3,
   "metadata": {},
   "outputs": [],
   "source": [
    "results = phewas(variants=snps_to_lookup)"
   ]
  },
  {
   "cell_type": "code",
   "execution_count": 4,
   "metadata": {},
   "outputs": [
    {
     "data": {
      "text/plain": [
       "\n",
       "rs11868035  rs6812193 \n",
       "        26          5 "
      ]
     },
     "metadata": {},
     "output_type": "display_data"
    }
   ],
   "source": [
    "table(results$rsid)"
   ]
  }
 ],
 "metadata": {
  "kernelspec": {
   "display_name": "R",
   "language": "R",
   "name": "ir"
  },
  "language_info": {
   "codemirror_mode": "r",
   "file_extension": ".r",
   "mimetype": "text/x-r-source",
   "name": "R",
   "pygments_lexer": "r",
   "version": "3.6.2"
  }
 },
 "nbformat": 4,
 "nbformat_minor": 4
}
